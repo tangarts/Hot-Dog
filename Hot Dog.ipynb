{
 "cells": [
  {
   "cell_type": "markdown",
   "metadata": {},
   "source": [
    "# HotDog: Calories and Sodium"
   ]
  },
  {
   "cell_type": "markdown",
   "metadata": {},
   "source": [
    "## Description\n",
    "\n",
    "Results of a laboratory analysis of calories and sodium content of major hot dog brands. \n",
    "Researchers for Consumer Reports analyzed three types of hot dog: beef, poultry, and meat \n",
    "(mostly pork and beef, but up to 15% poultry meat)."
   ]
  },
  {
   "cell_type": "code",
   "execution_count": 2,
   "metadata": {
    "collapsed": true
   },
   "outputs": [],
   "source": [
    "import pandas as pd\n",
    "import numpy as np\n",
    "import seaborn as sns\n",
    "import matplotlib.pyplot as plt\n",
    "%matplotlib inline\n",
    "\n",
    "import statsmodels.api as sm\n",
    "from scipy.stats import linregress \n"
   ]
  },
  {
   "cell_type": "code",
   "execution_count": 3,
   "metadata": {
    "collapsed": true
   },
   "outputs": [],
   "source": [
    "\n",
    "url = 'http://wiki.stat.ucla.edu/socr/index.php/SOCR_012708_ID_Data_HotDogs'\n",
    "\n",
    "df = pd.read_html(url)[1]\n",
    "\n",
    "df = df.reindex(df.index.drop(0))\n",
    "df[[1,2]] = df[[1,2]].astype(float)\n",
    "df[0] = df[0].astype(str)\n",
    "df.columns = ['type','calories','sodium']\n",
    "\n",
    "# saved to csv \n",
    "#df.to_csv(\"C:\\\\Users\\\\Nehe\\\\Documents\\\\hotdog.csv\")\n"
   ]
  },
  {
   "cell_type": "code",
   "execution_count": 4,
   "metadata": {},
   "outputs": [
    {
     "data": {
      "image/png": "[encoded data removed]",
      "text/plain": [
       "<Figure size 432x288 with 2 Axes>"
      ]
     },
     "metadata": {
      "needs_background": "light"
     },
     "output_type": "display_data"
    }
   ],
   "source": [
    "\n",
    "# box plots \n",
    "fig, ax = plt.subplots(1,2)\n",
    "sns.set(style=\"whitegrid\")\n",
    "\n",
    "sns.boxplot(data=df,x='sodium',y='type', ax =ax[0])\n",
    "sns.boxplot(data=df,x='calories',y='type', ax=ax[1])\n",
    "plt.show()\n"
   ]
  },
  {
   "cell_type": "markdown",
   "metadata": {},
   "source": [
    "### TODO -\n",
    "\n",
    "* explain what the box plots show"
   ]
  },
  {
   "cell_type": "code",
   "execution_count": 4,
   "metadata": {
    "scrolled": false
   },
   "outputs": [
    {
     "data": {
      "image/png": "[encoded data removed]",
      "text/plain": [
       "<Figure size 432x288 with 1 Axes>"
      ]
     },
     "metadata": {},
     "output_type": "display_data"
    }
   ],
   "source": [
    "sns.scatterplot(data=df,x='calories',y='sodium', hue='type')\n",
    "#sns.lmplot(data=df,x='calories',y='sodium',col='type',hue='type')\n",
    "plt.show()\n",
    "# TODO - Neaten 4 graph output, add titles (matplot 4 axes)"
   ]
  },
  {
   "cell_type": "markdown",
   "metadata": {},
   "source": [
    "### TODO -\n",
    "\n",
    "* Comment on the relationship between sodium and calories\n",
    "* implement linear regression test \n"
   ]
  },
  {
   "cell_type": "code",
   "execution_count": 5,
   "metadata": {
    "collapsed": true
   },
   "outputs": [],
   "source": [
    "beef,meat,poultry = df.loc[0:20], df.loc[21:37], df.loc[38:]"
   ]
  },
  {
   "cell_type": "code",
   "execution_count": 6,
   "metadata": {
    "collapsed": true
   },
   "outputs": [],
   "source": [
    "# transform the 3 data frames to numpy arrays rows corresponding to type, sodium, calories respectively.\n",
    "np_beef = beef.T.values\n",
    "np_poultry = poultry.T.values\n",
    "np_meat = meat.T.values"
   ]
  },
  {
   "cell_type": "markdown",
   "metadata": {},
   "source": [
    "## Simple Linear Regression Methods"
   ]
  },
  {
   "cell_type": "code",
   "execution_count": 7,
   "metadata": {
    "scrolled": false
   },
   "outputs": [
    {
     "name": "stdout",
     "output_type": "stream",
     "text": [
      "Type:  Beef \n",
      "Score:  0.7869228258148608 \n",
      "Coefficient:  [[4.01326927]] \n",
      "Intercept:  [-228.33128519] \n",
      "\n",
      "Type:  Poultry \n",
      "Score:  0.438061431742501 \n",
      "Coefficient:  [[2.48701655]] \n",
      "Intercept:  [163.63021037] \n",
      "\n",
      "Type:  Meat \n",
      "Score:  0.745464834395291 \n",
      "Coefficient:  [[3.21169366]] \n",
      "Intercept:  [-91.18526515] \n",
      "\n"
     ]
    }
   ],
   "source": [
    "# Method: sklearn.linear_model.LinearRegression()\n",
    "# Most popular method for data scientists\n",
    "# requires numpy array for variables\n",
    "\n",
    "from sklearn.linear_model import LinearRegression\n",
    "model = LinearRegression(fit_intercept=True)\n",
    "\n",
    "for type in np_beef, np_poultry, np_meat:\n",
    "    fit = model.fit(type[1].reshape(-1,1), type[2].reshape(-1,1)), \n",
    "    score = model.score(type[1].reshape(-1,1), type[2].reshape(-1,1))\n",
    "    print('Type: ', type[0][0], '\\n'\n",
    "          'Score: ' ,score, '\\n'\n",
    "          'Coefficient: ', model.coef_ , '\\n'\n",
    "          'Intercept: ', model.intercept_, '\\n'\n",
    "    )\n",
    "\n"
   ]
  },
  {
   "cell_type": "code",
   "execution_count": null,
   "metadata": {
    "scrolled": true
   },
   "outputs": [],
   "source": [
    "#Linear regression using stats.linregress\n",
    "# Method: Stats.linregress()\n",
    "for type in np_beef, np_poultry, np_meat:\n",
    "    (a_s,b_s,r,tt,stderr) = linregress(type[1],type[2]) \n",
    "    print('Type: ', type'\\n'\n",
    "        'a=%.2f, b=%.2f, std error= %.3f, r^2 coefficient= %.5f' % (a_s,b_s,stderr,r), '\\n')"
   ]
  },
  {
   "cell_type": "code",
   "execution_count": 11,
   "metadata": {
    "collapsed": true
   },
   "outputs": [
    {
     "data": {
      "text/plain": [
       "\"\\n# Method: Statsmodels.OLS ( )\\nprint('Linear regression using statsmodels.OLS \\n\\n')\\n\\nfor type in beef, poultry, meat:\\n    X = sm.add_constant(type['sodium'])\\n    model = sm.OLS(type['calories'], X)\\n    results = model.fit()\\n    print(results.summary())\\n    \\n\""
      ]
     },
     "execution_count": 11,
     "metadata": {},
     "output_type": "execute_result"
    }
   ],
   "source": [
    "\"\"\"\n",
    "# Method: Statsmodels.OLS ( )\n",
    "print('Linear regression using statsmodels.OLS \\n\\n')\n",
    "\n",
    "for type in beef, poultry, meat:\n",
    "    X = sm.add_constant(type['sodium'])\n",
    "    model = sm.OLS(type['calories'], X)\n",
    "    results = model.fit()\n",
    "    print(results.summary())\n",
    "    \n",
    "\"\"\""
   ]
  },
  {
   "cell_type": "code",
   "execution_count": 12,
   "metadata": {
    "collapsed": true
   },
   "outputs": [],
   "source": [
    "# Classification\n",
    "## Support Vector Machine"
   ]
  },
  {
   "cell_type": "code",
   "execution_count": null,
   "metadata": {
    "scrolled": true
   },
   "outputs": [],
   "source": [
    "\"\"\"\n",
    "from sklearn import svm\n",
    "\n",
    "X = df.values[:,[1,2]] # calories, sodium\n",
    "type = {'Beef':0,'Meat':1,'Poultry':2}\n",
    "y = [type[item] for item in df['type']]\n",
    "\n",
    "svc = svm.SVC(kernel='linear', C=1.0).fit(X,y)\n",
    "\n",
    "x_min, x_max = X[:,0].min() -1, X[:,0].max() +1\n",
    "y_min, y_max = X[:,1].min() -1, X[:,1].max() +1\n",
    "h = (x_max/x_min)/100\n",
    "xx, yy = np.meshgrid(np.arange(x_min,x_max, h),\n",
    "                     np.arange(y_min,y_max, h))\n",
    "\n",
    "X_plot = np.c_[xx.ravel(), yy.ravel()]\n",
    "Z = svc.predict(X_plot)\n",
    "\n",
    "Z = Z.reshape(xx.shape)\n",
    "plt.contourf(xx, yy, Z, cmap=plt.cm.Paired, alpha=0.8)\n",
    "plt.scatter(X[:,0], X[:,1], c=y, cmap=plt.cm.Paired)\n",
    "plt.xlim(xx.min(), xx.max())\n",
    "plt.ylim(yy.min(), yy.max())\n",
    "plt.title('SVC with linear kernel')\n",
    "plt.xlabel('calories')\n",
    "plt.ylabel('sodium')\n",
    "plt.show()\n",
    "\n",
    "\"\"\""
   ]
  }
 ],
 "metadata": {
  "kernelspec": {
   "display_name": "Python [conda env:py36]",
   "language": "python",
   "name": "conda-env-py36-py"
  },
  "language_info": {
   "codemirror_mode": {
    "name": "ipython",
    "version": 3
   },
   "file_extension": ".py",
   "mimetype": "text/x-python",
   "name": "python",
   "nbconvert_exporter": "python",
   "pygments_lexer": "ipython3",
   "version": "3.6.6"
  }
 },
 "nbformat": 4,
 "nbformat_minor": 2
}
